{
 "cells": [
  {
   "cell_type": "markdown",
   "id": "util-md-intro",
   "metadata": {},
   "source": [
    "# Extrinsic Utility Model Training (ANN)\n",
    "\n",
    "This notebook trains an Artificial Neural Network (specifically, an MLPRegressor) to act as the extrinsic utility model for the Robobo robot.\n",
    "\n",
    "**Objective:** Learn a function that estimates the utility of a given perceptual state, where higher utility means the state is \"better\" for reaching the **red cylinder** goal.\n",
    "\n",
    "**Data Requirement:** This notebook expects a dataset file (e.g., `goal_traces.csv`) containing sequences of perceptual states recorded during successful runs where the robot reached the red cylinder. Each row should represent a state, and include columns for the perceptual features and a corresponding `target_utility` value calculated based on its position within the successful trace."
   ]
  },
  {
   "cell_type": "markdown",
   "id": "util-md-imports",
   "metadata": {},
   "source": [
    "## 1. Imports"
   ]
  },
  {
   "cell_type": "code",
   "execution_count": null,
   "id": "util-code-imports",
   "metadata": {},
   "outputs": [],
   "source": [
    "import pandas as pd\n",
    "import numpy as np\n",
    "from sklearn.model_selection import train_test_split\n",
    "from sklearn.neural_network import MLPRegressor\n",
    "from sklearn.metrics import mean_squared_error, mean_absolute_error\n",
    "from sklearn.preprocessing import StandardScaler\n",
    "import joblib\n",
    "import os\n",
    "import time"
   ]
  },
  {
   "cell_type": "markdown",
   "id": "util-md-params",
   "metadata": {},
   "source": [
    "## 2. Configuration and Parameters"
   ]
  },
  {
   "cell_type": "code",
   "execution_count": null,
   "id": "util-code-params",
   "metadata": {},
   "outputs": [],
   "source": [
    "# --- File Paths ---\n",
    "DATASET_DIR = \"../dataset\"  # Relative path to the dataset folder\n",
    "MODEL_DIR = \"../src/models\"   # Relative path to save models/scalers\n",
    "DATASET_FILENAME = \"goal_traces.csv\" # Name of your trace data file\n",
    "MODEL_FILENAME = \"extrinsic_utility_model.joblib\"\n",
    "SCALER_FILENAME = \"extrinsic_utility_scaler.joblib\"\n",
    "\n",
    "DATASET_PATH = os.path.join(DATASET_DIR, DATASET_FILENAME)\n",
    "UTILITY_MODEL_PATH = os.path.join(MODEL_DIR, MODEL_FILENAME)\n",
    "UTILITY_SCALER_PATH = os.path.join(MODEL_DIR, SCALER_FILENAME)\n",
    "\n",
    "# --- Training Parameters ---\n",
    "TEST_SIZE = 0.2           # Proportion of data for the test set\n",
    "RANDOM_STATE = 42         # Seed for reproducibility\n",
    "\n",
    "# --- MLP Regressor Hyperparameters (Example - Tune these!) ---\n",
    "HIDDEN_LAYER_SIZES = (128, 64, 32) # Example: 3 hidden layers\n",
    "ACTIVATION = 'relu'         # Activation function ('relu', 'tanh', etc.)\n",
    "SOLVER = 'adam'             # Optimization algorithm ('adam', 'sgd', etc.)\n",
    "ALPHA = 0.0001              # L2 regularization term\n",
    "LEARNING_RATE = 'adaptive'  # Learning rate schedule ('constant', 'adaptive')\n",
    "MAX_ITER = 1000             # Max training iterations\n",
    "EARLY_STOPPING = True       # Stop training if validation score doesn't improve\n",
    "N_ITER_NO_CHANGE = 20      # Number of iterations with no improvement to wait\n",
    "\n",
    "# --- Feature and Target Columns ---\n",
    "# Ensure these match the columns in your goal_traces.csv file\n",
    "FEATURE_COLUMNS = [\n",
    "    'distance_red', 'angle_red',\n",
    "    'distance_green', 'angle_green',\n",
    "    'distance_blue', 'angle_blue'\n",
    "]\n",
    "TARGET_COLUMN = 'target_utility'\n",
    "\n",
    "# --- Ensure directories exist ---\n",
    "os.makedirs(MODEL_DIR, exist_ok=True)\n",
    "os.makedirs(DATASET_DIR, exist_ok=True) # Just in case"
   ]
  },
  {
   "cell_type": "markdown",
   "id": "util-md-load",
   "metadata": {},
   "source": [
    "## 3. Load Goal Trace Data\n",
    "\n",
    "Load the pre-collected dataset containing sequences of states leading to the goal."
   ]
  },
  {
   "cell_type": "code",
   "execution_count": null,
   "id": "util-code-load",
   "metadata": {},
   "outputs": [],
   "source": [
    "print(f\"Loading dataset from: {DATASET_PATH}\")\n",
    "try:\n",
    "    df_traces = pd.read_csv(DATASET_PATH)\n",
    "    print(f\"Dataset loaded successfully. Shape: {df_traces.shape}\")\n",
    "    \n",
    "    # Basic Data Inspection\n",
    "    print(\"\\nFirst 5 rows:\")\n",
    "    print(df_traces.head())\n",
    "    print(\"\\nDataset Info:\")\n",
    "    df_traces.info()\n",
    "    print(\"\\nChecking for NaN values:\")\n",
    "    print(df_traces.isnull().sum())\n",
    "\n",
    "    # Handle potential NaN values (e.g., drop rows with NaNs)\n",
    "    initial_rows = len(df_traces)\n",
    "    df_traces.dropna(inplace=True)\n",
    "    if len(df_traces) < initial_rows:\n",
    "        print(f\"\\nDropped {initial_rows - len(df_traces)} rows containing NaN values.\")\n",
    "        print(f\"Shape after dropping NaNs: {df_traces.shape}\")\n",
    "\n",
    "except FileNotFoundError:\n",
    "    print(f\"\\nError: Dataset file not found at '{DATASET_PATH}'\")\n",
    "    print(\"Please run the `collect_goal_traces.py` script first to generate the data.\")\n",
    "    # Optional: Exit or handle appropriately\n",
    "    # exit()\n",
    "    df_traces = None # Set to None to prevent further errors\n",
    "except Exception as e:\n",
    "    print(f\"\\nAn error occurred while loading or processing the data: {e}\")\n",
    "    df_traces = None"
   ]
  },
  {
   "cell_type": "markdown",
   "id": "util-md-preprocess",
   "metadata": {},
   "source": [
    "## 4. Preprocessing\n",
    "\n",
    "1.  **Separate Features (X) and Target (y):** Isolate the input perceptual state features from the target utility value.\n",
    "2.  **Train/Test Split:** Divide the data for training and evaluation.\n",
    "3.  **Feature Scaling:** Scale the input features using StandardScaler. This is crucial for ANNs."
   ]
  },
  {
   "cell_type": "code",
   "execution_count": null,
   "id": "util-code-preprocess",
   "metadata": {},
   "outputs": [],
   "source": [
    "X_train_scaled, X_test_scaled, y_train, y_test, scaler = (None, None, None, None, None)\n",
    "\n",
    "if df_traces is not None and not df_traces.empty:\n",
    "    try:\n",
    "        # 1. Separate Features and Target\n",
    "        X = df_traces[FEATURE_COLUMNS].values\n",
    "        y = df_traces[TARGET_COLUMN].values\n",
    "        print(f\"\\nFeatures (X) shape: {X.shape}\")\n",
    "        print(f\"Target (y) shape: {y.shape}\")\n",
    "\n",
    "        # 2. Train/Test Split\n",
    "        X_train, X_test, y_train, y_test = train_test_split(\n",
    "            X, y, test_size=TEST_SIZE, random_state=RANDOM_STATE\n",
    "        )\n",
    "        print(f\"Training set size: {X_train.shape[0]} samples\")\n",
    "        print(f\"Testing set size: {X_test.shape[0]} samples\")\n",
    "\n",
    "        # 3. Feature Scaling\n",
    "        scaler = StandardScaler()\n",
    "        X_train_scaled = scaler.fit_transform(X_train) # Fit ONLY on training data\n",
    "        X_test_scaled = scaler.transform(X_test)     # Transform test data\n",
    "        print(\"\\nFeatures scaled using StandardScaler.\")\n",
    "        \n",
    "    except KeyError as e:\n",
    "        print(f\"\\nError: Column not found in dataset: {e}\")\n",
    "        print(f\"Please ensure '{DATASET_FILENAME}' contains columns: {FEATURE_COLUMNS + [TARGET_COLUMN]}\")\n",
    "    except Exception as e:\n",
    "        print(f\"\\nAn error occurred during preprocessing: {e}\")\n",
    "else:\n",
    "    print(\"\\nSkipping preprocessing because data loading failed or DataFrame is empty.\")"
   ]
  },
  {
   "cell_type": "markdown",
   "id": "util-md-train",
   "metadata": {},
   "source": [
    "## 5. Train Utility Model (MLPRegressor)\n",
    "\n",
    "Train the neural network using the preprocessed (scaled) training data."
   ]
  },
  {
   "cell_type": "code",
   "execution_count": null,
   "id": "util-code-train",
   "metadata": {},
   "outputs": [],
   "source": [
    "utility_model = None\n",
    "\n",
    "if X_train_scaled is not None and y_train is not None:\n",
    "    print(\"\\nTraining MLP Regressor for extrinsic utility...\")\n",
    "    start_time = time.time()\n",
    "\n",
    "    utility_model = MLPRegressor(\n",
    "        hidden_layer_sizes=HIDDEN_LAYER_SIZES,\n",
    "        activation=ACTIVATION,\n",
    "        solver=SOLVER,\n",
    "        alpha=ALPHA,\n",
    "        learning_rate=LEARNING_RATE,\n",
    "        max_iter=MAX_ITER,\n",
    "        early_stopping=EARLY_STOPPING,\n",
    "        n_iter_no_change=N_ITER_NO_CHANGE,\n",
    "        random_state=RANDOM_STATE,\n",
    "        verbose=True # Print progress during training\n",
    "    )\n",
    "\n",
    "    try:\n",
    "        utility_model.fit(X_train_scaled, y_train)\n",
    "        end_time = time.time()\n",
    "        print(f\"\\nUtility Model Training Complete. Time taken: {end_time - start_time:.2f} seconds.\")\n",
    "    except Exception as e:\n",
    "        print(f\"\\nError during model training: {e}\")\n",
    "        utility_model = None\n",
    "else:\n",
    "    print(\"\\nSkipping model training due to issues in data loading or preprocessing.\")"
   ]
  },
  {
   "cell_type": "markdown",
   "id": "util-md-eval",
   "metadata": {},
   "source": [
    "## 6. Evaluate Model\n",
    "\n",
    "Evaluate the trained model's performance on the unseen test set using Mean Squared Error (MSE) and Mean Absolute Error (MAE)."
   ]
  },
  {
   "cell_type": "code",
   "execution_count": null,
   "id": "util-code-eval",
   "metadata": {},
   "outputs": [],
   "source": [
    "if utility_model is not None and X_test_scaled is not None and y_test is not None:\n",
    "    print(\"\\n--- Utility Model Evaluation ---\")\n",
    "    y_pred_test = utility_model.predict(X_test_scaled)\n",
    "    \n",
    "    mse_test = mean_squared_error(y_test, y_pred_test)\n",
    "    mae_test = mean_absolute_error(y_test, y_pred_test)\n",
    "    rmse_test = np.sqrt(mse_test)\n",
    "    \n",
    "    print(f\"Test Set MSE:  {mse_test:.4f}\")\n",
    "    print(f\"Test Set RMSE: {rmse_test:.4f}\")\n",
    "    print(f\"Test Set MAE:  {mae_test:.4f}\")\n",
    "\n",
    "    # Optional: Evaluate on training set to check for overfitting\n",
    "    y_pred_train = utility_model.predict(X_train_scaled)\n",
    "    mse_train = mean_squared_error(y_train, y_pred_train)\n",
    "    print(f\"\\nTraining Set MSE: {mse_train:.4f} (Lower is better, compare with Test MSE)\")\n",
    "\n",
    "else:\n",
    "    print(\"\\nSkipping evaluation because model training failed or test data is unavailable.\")"
   ]
  },
  {
   "cell_type": "markdown",
   "id": "util-md-save",
   "metadata": {},
   "source": [
    "## 7. Save Model and Scaler\n",
    "\n",
    "Save the trained utility model and the scaler object (needed for scaling new data before prediction) for later use in the robot's control script."
   ]
  },
  {
   "cell_type": "code",
   "execution_count": null,
   "id": "util-code-save",
   "metadata": {},
   "outputs": [],
   "source": [
    "if utility_model is not None and scaler is not None:\n",
    "    try:\n",
    "        joblib.dump(utility_model, UTILITY_MODEL_PATH)\n",
    "        joblib.dump(scaler, UTILITY_SCALER_PATH)\n",
    "        print(f\"\\nUtility model saved successfully to: {UTILITY_MODEL_PATH}\")\n",
    "        print(f\"Utility scaler saved successfully to: {UTILITY_SCALER_PATH}\")\n",
    "    except Exception as e:\n",
    "        print(f\"\\nError saving model or scaler: {e}\")\n",
    "else:\n",
    "     print(\"\\nSkipping saving because model or scaler was not successfully created.\")"
   ]
  },
  {
   "cell_type": "markdown",
   "id": "util-md-next",
   "metadata": {},
   "source": [
    "## Next Steps\n",
    "\n",
    "1.  **Generate `goal_traces.csv`:** Run the `collect_goal_traces.py` script (or your modified version) to collect sufficient data.\n",
    "2.  **Run this Notebook:** Execute the cells above to train and save the utility model and scaler.\n",
    "3.  **Integrate:** Load the saved model (`extrinsic_utility_model.joblib`) and scaler (`extrinsic_utility_scaler.joblib`) in your main robot control script (`main.py` or similar).\n",
    "4.  **Use for Deliberation:**\n",
    "    *   In your decision loop, for each candidate action:\n",
    "        *   Predict the next state using your world model.\n",
    "        *   Scale the predicted state using the loaded utility scaler.\n",
    "        *   Use the loaded utility model's `.predict()` method on the scaled state to get its utility.\n",
    "    *   Choose the action leading to the highest predicted utility."
   ]
  }
 ],
 "metadata": {
  "kernelspec": {
   "display_name": "IR2",
   "language": "python",
   "name": "python3"
  },
  "language_info": {
   "codemirror_mode": {
    "name": "ipython",
    "version": 3
   },
   "file_extension": ".py",
   "mimetype": "text/x-python",
   "name": "python",
   "nbconvert_exporter": "python",
   "pygments_lexer": "ipython3",
   "version": "3.10.16"
  }
 },
 "nbformat": 4,
 "nbformat_minor": 5
}
