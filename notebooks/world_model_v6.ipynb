{
 "cells": [
  {
   "cell_type": "markdown",
   "id": "899cc50c",
   "metadata": {},
   "source": [
    "# World Model"
   ]
  },
  {
   "cell_type": "markdown",
   "id": "2bc9fd66",
   "metadata": {},
   "source": [
    "## Imports\n"
   ]
  },
  {
   "cell_type": "code",
   "execution_count": 15,
   "id": "44247cdb",
   "metadata": {},
   "outputs": [],
   "source": [
    "import pandas as pd\n",
    "import numpy as np\n",
    "from sklearn.model_selection import train_test_split\n",
    "from sklearn.linear_model import Ridge\n",
    "from sklearn.model_selection import GridSearchCV\n",
    "from sklearn.metrics import mean_absolute_error, mean_squared_error\n",
    "from sklearn.preprocessing import StandardScaler\n",
    "import joblib\n",
    "import os\n",
    "import random"
   ]
  },
  {
   "cell_type": "code",
   "execution_count": 16,
   "id": "366aedc6",
   "metadata": {},
   "outputs": [],
   "source": [
    "# Set random seed for reproducibility\n",
    "random.seed(42)\n",
    "np.random.seed(42)"
   ]
  },
  {
   "cell_type": "markdown",
   "id": "d95e82f4",
   "metadata": {},
   "source": [
    "## Load Dataset"
   ]
  },
  {
   "cell_type": "code",
   "execution_count": 17,
   "id": "1c3c70e1",
   "metadata": {},
   "outputs": [],
   "source": [
    "def load_data(filepath=\"../dataset/dataset_v41.txt\"):\n",
    "    \"\"\"Loads the dataset using pandas.\"\"\"\n",
    "    try:\n",
    "        df = pd.read_csv(filepath)\n",
    "        print(f\"Dataset loaded successfully. Shape: {df.shape}\")\n",
    "        df = df.dropna()\n",
    "        print(f\"Shape after dropping NaNs: {df.shape}\")\n",
    "        return df\n",
    "    except FileNotFoundError:\n",
    "        print(f\"Error: Dataset file not found at {filepath}\")\n",
    "        return None\n",
    "    except Exception as e:\n",
    "        print(f\"Error loading dataset: {e}\")\n",
    "        return None"
   ]
  },
  {
   "cell_type": "code",
   "execution_count": 18,
   "id": "99cb8f38",
   "metadata": {},
   "outputs": [
    {
     "name": "stdout",
     "output_type": "stream",
     "text": [
      "Dataset loaded successfully. Shape: (4028, 14)\n",
      "Shape after dropping NaNs: (4028, 14)\n"
     ]
    }
   ],
   "source": [
    "# 1. Load the dataset\n",
    "dataframe = load_data()"
   ]
  },
  {
   "cell_type": "code",
   "execution_count": 19,
   "id": "b3b82542",
   "metadata": {},
   "outputs": [
    {
     "name": "stdout",
     "output_type": "stream",
     "text": [
      "<class 'pandas.core.frame.DataFrame'>\n",
      "RangeIndex: 4028 entries, 0 to 4027\n",
      "Data columns (total 14 columns):\n",
      " #   Column                Non-Null Count  Dtype  \n",
      "---  ------                --------------  -----  \n",
      " 0   distance_red_init     4028 non-null   float64\n",
      " 1   angle_red_init        4028 non-null   float64\n",
      " 2   distance_green_init   4028 non-null   float64\n",
      " 3   angle_green_init      4028 non-null   float64\n",
      " 4   distance_blue_init    4028 non-null   float64\n",
      " 5   angle_blue_init       4028 non-null   float64\n",
      " 6   rSpeed                4028 non-null   int64  \n",
      " 7   lSpeed                4028 non-null   int64  \n",
      " 8   distance_red_final    4028 non-null   float64\n",
      " 9   angle_red_final       4028 non-null   float64\n",
      " 10  distance_green_final  4028 non-null   float64\n",
      " 11  angle_green_final     4028 non-null   float64\n",
      " 12  distance_blue_final   4028 non-null   float64\n",
      " 13  angle_blue_final      4028 non-null   float64\n",
      "dtypes: float64(12), int64(2)\n",
      "memory usage: 440.7 KB\n"
     ]
    }
   ],
   "source": [
    "dataframe.info()"
   ]
  },
  {
   "cell_type": "markdown",
   "id": "b6e96bd5",
   "metadata": {},
   "source": [
    "## Preprocess Dataset"
   ]
  },
  {
   "cell_type": "code",
   "execution_count": 20,
   "id": "dc842ecb",
   "metadata": {},
   "outputs": [],
   "source": [
    "def prepare_data(df):\n",
    "    \"\"\"Separates features (X) and target variables (Y).\"\"\"\n",
    "    # Input Features: initial state (6) + action (2) = 8 features\n",
    "    X = df.iloc[:, :8].values\n",
    "    # Target Variables: final state (6) = 6 features\n",
    "    Y = df.iloc[:, 8:].values\n",
    "    print(f\"Features (X) shape: {X.shape}\")\n",
    "    print(f\"Targets (Y) shape: {Y.shape}\")\n",
    "    return X, Y"
   ]
  },
  {
   "cell_type": "code",
   "execution_count": 21,
   "id": "ec74f86c",
   "metadata": {},
   "outputs": [],
   "source": [
    "def split_data(X, Y, test_size=0.2, random_state=42):\n",
    "    \"\"\"Splits data into training and testing sets.\"\"\"\n",
    "    X_train, X_test, Y_train, Y_test = train_test_split(\n",
    "        X, Y, test_size=test_size, random_state=random_state\n",
    "    )\n",
    "    print(f\"Training set size: {X_train.shape[0]} samples\")\n",
    "    print(f\"Testing set size: {X_test.shape[0]} samples\")\n",
    "    return X_train, X_test, Y_train, Y_test"
   ]
  },
  {
   "cell_type": "code",
   "execution_count": 22,
   "id": "68470671",
   "metadata": {},
   "outputs": [
    {
     "name": "stdout",
     "output_type": "stream",
     "text": [
      "Features (X) shape: (4028, 8)\n",
      "Targets (Y) shape: (4028, 6)\n"
     ]
    }
   ],
   "source": [
    "# 2. Prepare Data\n",
    "X, Y = prepare_data(dataframe)"
   ]
  },
  {
   "cell_type": "code",
   "execution_count": 23,
   "id": "3f9a03e6",
   "metadata": {},
   "outputs": [],
   "source": [
    "def scale_features(X_train, X_test):\n",
    "    \"\"\"Scales input features using StandardScaler.\"\"\"\n",
    "    \n",
    "    scaler = StandardScaler()\n",
    "    \n",
    "    # Fit scaler ONLY on training data\n",
    "    X_train_scaled = scaler.fit_transform(X_train)\n",
    "    \n",
    "    # Transform both train and test data\n",
    "    X_test_scaled = scaler.transform(X_test)\n",
    "    \n",
    "    print(\"Features scaled.\")\n",
    "    \n",
    "    return X_train_scaled, X_test_scaled, scaler # Return scaler to save it"
   ]
  },
  {
   "cell_type": "code",
   "execution_count": 24,
   "id": "1706aec4",
   "metadata": {},
   "outputs": [
    {
     "name": "stdout",
     "output_type": "stream",
     "text": [
      "Training set size: 3222 samples\n",
      "Testing set size: 806 samples\n",
      "Features scaled.\n"
     ]
    }
   ],
   "source": [
    "# 3. Split Data\n",
    "X_train, X_test, Y_train, Y_test = split_data(X, Y)\n",
    "\n",
    "# 4. Scale Features (Important!)\n",
    "X_train_scaled, X_test_scaled, scaler = scale_features(X_train, X_test)"
   ]
  },
  {
   "cell_type": "markdown",
   "id": "945c1183",
   "metadata": {},
   "source": [
    "## Train model"
   ]
  },
  {
   "cell_type": "code",
   "execution_count": 25,
   "id": "8e7a4f0a",
   "metadata": {},
   "outputs": [
    {
     "name": "stdout",
     "output_type": "stream",
     "text": [
      "Training Ridge Regression model with GridSearchCV...\n",
      "Fitting 5 folds for each of 70 candidates, totalling 350 fits\n",
      "\n",
      "GridSearchCV Complete.\n",
      "Best parameters found: {'alpha': 1.0, 'solver': 'auto'}\n",
      "Best cross-validation score (negative MSE): -5162.5105\n"
     ]
    }
   ],
   "source": [
    "def train_ridge_regression(X_train, Y_train):\n",
    "    \"\"\"Trains a Ridge Regression model with hyperparameter optimization using GridSearchCV.\"\"\"\n",
    "    print(\"Training Ridge Regression model with GridSearchCV...\")\n",
    "\n",
    "    # Define the parameter grid for alpha (regularization strength)\n",
    "    param_grid = {\n",
    "        'alpha': [0, 0.001, 0.01, 0.1, 1.0, 10.0, 100.0, 1000.0, 10000.0, 1000000.0,],  # Wider range of regularization strengths\n",
    "        'solver': ['auto', 'svd', 'cholesky', 'lsqr', 'sparse_cg', 'sag', 'saga']  # Different solvers for optimization\n",
    "    }\n",
    "\n",
    "    # Create the Ridge regression model\n",
    "    ridge = Ridge(random_state=42)\n",
    "\n",
    "    # Set up GridSearchCV\n",
    "    grid_search = GridSearchCV(\n",
    "        estimator=ridge,\n",
    "        param_grid=param_grid,\n",
    "        scoring='neg_mean_squared_error',  # Optimize for lower MSE\n",
    "        cv=5,  # 5-fold cross-validation\n",
    "        n_jobs=-1,  # Use all available CPU cores\n",
    "        verbose=1\n",
    "    )\n",
    "\n",
    "    # Fit GridSearchCV on the training data\n",
    "    grid_search.fit(X_train, Y_train)\n",
    "\n",
    "    # Print the best parameters and corresponding score\n",
    "    print(\"\\nGridSearchCV Complete.\")\n",
    "    print(f\"Best parameters found: {grid_search.best_params_}\")\n",
    "    print(f\"Best cross-validation score (negative MSE): {grid_search.best_score_:.4f}\")\n",
    "\n",
    "    # Return the best model found by GridSearchCV\n",
    "    return grid_search.best_estimator_\n",
    "\n",
    "# Example usage:\n",
    "world_model = train_ridge_regression(X_train_scaled, Y_train)"
   ]
  },
  {
   "cell_type": "markdown",
   "id": "f63a4975",
   "metadata": {},
   "source": [
    "## Evaluate"
   ]
  },
  {
   "cell_type": "code",
   "execution_count": 26,
   "id": "d0031860",
   "metadata": {},
   "outputs": [],
   "source": [
    "def evaluate_model(model, X_test, Y_test):\n",
    "    \"\"\"Evaluates the model using MAE and MSE.\"\"\"\n",
    "    Y_pred = model.predict(X_test)\n",
    "\n",
    "    mae = mean_absolute_error(Y_test, Y_pred)\n",
    "    mse = mean_squared_error(Y_test, Y_pred)\n",
    "    rmse = np.sqrt(mse) # Root Mean Squared Error\n",
    "\n",
    "    print(\"\\n--- Model Evaluation ---\")\n",
    "    print(f\"Mean Absolute Error (MAE): {mae:.4f}\")\n",
    "    print(f\"Mean Squared Error (MSE):  {mse:.4f}\")\n",
    "    print(f\"Root Mean Squared Error (RMSE): {rmse:.4f}\")\n",
    "\n",
    "    # Optional: Print metrics per output feature\n",
    "    print(\"\\nMAE per output feature:\")\n",
    "    output_features = [\n",
    "        'dist_red_final', 'angle_red_final', 'dist_green_final',\n",
    "        'angle_green_final', 'dist_blue_final', 'angle_blue_final'\n",
    "    ]\n",
    "    for i, name in enumerate(output_features):\n",
    "         mae_feature = mean_absolute_error(Y_test[:, i], Y_pred[:, i])\n",
    "         print(f\"  {name}: {mae_feature:.4f}\")\n",
    "\n",
    "    return mae, mse"
   ]
  },
  {
   "cell_type": "code",
   "execution_count": 27,
   "id": "5839cf91",
   "metadata": {},
   "outputs": [
    {
     "name": "stdout",
     "output_type": "stream",
     "text": [
      "\n",
      "--- Model Evaluation ---\n",
      "Mean Absolute Error (MAE): 52.0969\n",
      "Mean Squared Error (MSE):  5527.5585\n",
      "Root Mean Squared Error (RMSE): 74.3476\n",
      "\n",
      "MAE per output feature:\n",
      "  dist_red_final: 32.9164\n",
      "  angle_red_final: 73.1771\n",
      "  dist_green_final: 32.7284\n",
      "  angle_green_final: 70.7179\n",
      "  dist_blue_final: 33.0979\n",
      "  angle_blue_final: 69.9436\n"
     ]
    },
    {
     "data": {
      "text/plain": [
       "(52.09688933581429, 5527.558500029208)"
      ]
     },
     "execution_count": 27,
     "metadata": {},
     "output_type": "execute_result"
    }
   ],
   "source": [
    "# 6. Evaluate the Best Model found by GridSearch (using scaled test data) new\n",
    "evaluate_model(world_model, X_test_scaled, Y_test)"
   ]
  },
  {
   "cell_type": "markdown",
   "id": "73961514",
   "metadata": {},
   "source": [
    "## Save model"
   ]
  },
  {
   "cell_type": "code",
   "execution_count": 29,
   "id": "f657491e",
   "metadata": {},
   "outputs": [],
   "source": [
    "def save_model_and_scaler(model, scaler, model_filename=\"world_model_v6_ridge.joblib\", scaler_filename=\"scaler_v6_ridge.joblib\"):\n",
    "    \"\"\"Saves the trained model and scaler to disk.\"\"\"\n",
    "    try:\n",
    "        # Ensure the directory exists\n",
    "        model_dir = \"../src/models\"\n",
    "        os.makedirs(model_dir, exist_ok=True)\n",
    "\n",
    "        model_path = os.path.join(model_dir, model_filename)\n",
    "        scaler_path = os.path.join(model_dir, scaler_filename)\n",
    "\n",
    "        joblib.dump(model, model_path)\n",
    "        joblib.dump(scaler, scaler_path)\n",
    "        print(f\"Model saved to {model_path}\")\n",
    "        print(f\"Scaler saved to {scaler_path}\")\n",
    "    except Exception as e:\n",
    "        print(f\"Error saving model/scaler: {e}\")"
   ]
  },
  {
   "cell_type": "code",
   "execution_count": 30,
   "id": "0fa7e6e5",
   "metadata": {},
   "outputs": [
    {
     "name": "stdout",
     "output_type": "stream",
     "text": [
      "Model saved to ../src/models/world_model_v6_ridge.joblib\n",
      "Scaler saved to ../src/models/scaler_v6_ridge.joblib\n"
     ]
    }
   ],
   "source": [
    "# 7. Save Model and Scaler\n",
    "save_model_and_scaler(world_model, scaler)"
   ]
  },
  {
   "cell_type": "code",
   "execution_count": 28,
   "id": "c11596e8",
   "metadata": {},
   "outputs": [
    {
     "name": "stdout",
     "output_type": "stream",
     "text": [
      "\n",
      "--- Example Prediction ---\n",
      "Input State + Action: [955.44523425 103.62522615 242.11899068 157.6183699  905.46962492\n",
      " 146.3904975  -10.         -28.        ]\n",
      "Actual Final State:   [ 900.66599694  132.79714895  219.57236495 -161.04939517  869.95806569\n",
      "  177.92982709]\n",
      "Predicted Final State:[959.30237831  61.08257953 243.83721536  75.31184417 904.38115991\n",
      "  75.97478085]\n"
     ]
    }
   ],
   "source": [
    "# Example prediction (how you'd use it later)\n",
    "print(\"\\n--- Example Prediction ---\")\n",
    "\n",
    "# Take the first sample from the original test set\n",
    "sample_X = X_test[0].reshape(1, -1)\n",
    "sample_Y_actual = Y_test[0]\n",
    "\n",
    "# Scale the sample using the *saved* scaler\n",
    "sample_X_scaled = scaler.transform(sample_X)\n",
    "\n",
    "# Predict using the trained model\n",
    "sample_Y_pred = world_model.predict(sample_X_scaled)\n",
    "\n",
    "print(f\"Input State + Action: {sample_X[0]}\")\n",
    "print(f\"Actual Final State:   {sample_Y_actual}\")\n",
    "print(f\"Predicted Final State:{sample_Y_pred[0]}\")"
   ]
  }
 ],
 "metadata": {
  "kernelspec": {
   "display_name": "IR2",
   "language": "python",
   "name": "python3"
  },
  "language_info": {
   "codemirror_mode": {
    "name": "ipython",
    "version": 3
   },
   "file_extension": ".py",
   "mimetype": "text/x-python",
   "name": "python",
   "nbconvert_exporter": "python",
   "pygments_lexer": "ipython3",
   "version": "3.10.16"
  }
 },
 "nbformat": 4,
 "nbformat_minor": 5
}
