{
 "cells": [
  {
   "cell_type": "markdown",
   "id": "899cc50c",
   "metadata": {},
   "source": [
    "# World Model"
   ]
  },
  {
   "cell_type": "markdown",
   "id": "2bc9fd66",
   "metadata": {},
   "source": [
    "## Imports\n"
   ]
  },
  {
   "cell_type": "code",
   "execution_count": 2,
   "id": "44247cdb",
   "metadata": {},
   "outputs": [],
   "source": [
    "import pandas as pd\n",
    "import numpy as np\n",
    "from sklearn.model_selection import train_test_split\n",
    "from sklearn.ensemble import RandomForestRegressor # Good non-linear choice\n",
    "# Or use MLPRegressor for a neural network:\n",
    "# from sklearn.neural_network import MLPRegressor\n",
    "from sklearn.metrics import mean_absolute_error, mean_squared_error\n",
    "from sklearn.preprocessing import StandardScaler\n",
    "import joblib # To save the trained model\n",
    "import os"
   ]
  },
  {
   "cell_type": "markdown",
   "id": "d95e82f4",
   "metadata": {},
   "source": [
    "## Load Dataset"
   ]
  },
  {
   "cell_type": "code",
   "execution_count": 6,
   "id": "1c3c70e1",
   "metadata": {},
   "outputs": [],
   "source": [
    "def load_data(filepath=\"../dataset/dataset_limited.txt\"):\n",
    "    \"\"\"Loads the dataset using pandas.\"\"\"\n",
    "    try:\n",
    "        # Assuming the first row is the header\n",
    "        df = pd.read_csv(filepath)\n",
    "        print(f\"Dataset loaded successfully. Shape: {df.shape}\")\n",
    "        # Optional: Drop rows with NaN values if any occur\n",
    "        df = df.dropna()\n",
    "        print(f\"Shape after dropping NaNs: {df.shape}\")\n",
    "        return df\n",
    "    except FileNotFoundError:\n",
    "        print(f\"Error: Dataset file not found at {filepath}\")\n",
    "        return None\n",
    "    except Exception as e:\n",
    "        print(f\"Error loading dataset: {e}\")\n",
    "        return None"
   ]
  },
  {
   "cell_type": "code",
   "execution_count": null,
   "id": "99cb8f38",
   "metadata": {},
   "outputs": [
    {
     "name": "stdout",
     "output_type": "stream",
     "text": [
      "Dataset loaded successfully. Shape: (768, 14)\n",
      "Shape after dropping NaNs: (768, 14)\n"
     ]
    }
   ],
   "source": [
    "# 1. Load the dataset\n",
    "dataframe = load_data()"
   ]
  },
  {
   "cell_type": "code",
   "execution_count": 8,
   "id": "b3b82542",
   "metadata": {},
   "outputs": [
    {
     "name": "stdout",
     "output_type": "stream",
     "text": [
      "<class 'pandas.core.frame.DataFrame'>\n",
      "RangeIndex: 768 entries, 0 to 767\n",
      "Data columns (total 14 columns):\n",
      " #   Column                Non-Null Count  Dtype  \n",
      "---  ------                --------------  -----  \n",
      " 0   distance_red_init     768 non-null    float64\n",
      " 1   angle_red_init        768 non-null    float64\n",
      " 2   distance_green_init   768 non-null    float64\n",
      " 3   angle_green_init      768 non-null    float64\n",
      " 4   distance_blue_init    768 non-null    float64\n",
      " 5   angle_blue_init       768 non-null    float64\n",
      " 6   rSpeed                768 non-null    int64  \n",
      " 7   lSpeed                768 non-null    int64  \n",
      " 8   distance_red_final    768 non-null    float64\n",
      " 9   angle_red_final       768 non-null    float64\n",
      " 10  distance_green_final  768 non-null    float64\n",
      " 11  angle_green_final     768 non-null    float64\n",
      " 12  distance_blue_final   768 non-null    float64\n",
      " 13  angle_blue_final      768 non-null    float64\n",
      "dtypes: float64(12), int64(2)\n",
      "memory usage: 84.1 KB\n"
     ]
    }
   ],
   "source": [
    "dataframe.info()"
   ]
  },
  {
   "cell_type": "markdown",
   "id": "b6e96bd5",
   "metadata": {},
   "source": [
    "## Preprocess Dataset"
   ]
  },
  {
   "cell_type": "code",
   "execution_count": 9,
   "id": "dc842ecb",
   "metadata": {},
   "outputs": [],
   "source": [
    "def prepare_data(df):\n",
    "    \"\"\"Separates features (X) and target variables (Y).\"\"\"\n",
    "    # Input Features: initial state (6) + action (2) = 8 features\n",
    "    X = df.iloc[:, :8].values\n",
    "    # Target Variables: final state (6) = 6 features\n",
    "    Y = df.iloc[:, 8:].values\n",
    "    print(f\"Features (X) shape: {X.shape}\")\n",
    "    print(f\"Targets (Y) shape: {Y.shape}\")\n",
    "    return X, Y"
   ]
  },
  {
   "cell_type": "code",
   "execution_count": 10,
   "id": "ec74f86c",
   "metadata": {},
   "outputs": [],
   "source": [
    "def split_data(X, Y, test_size=0.2, random_state=42):\n",
    "    \"\"\"Splits data into training and testing sets.\"\"\"\n",
    "    X_train, X_test, Y_train, Y_test = train_test_split(\n",
    "        X, Y, test_size=test_size, random_state=random_state\n",
    "    )\n",
    "    print(f\"Training set size: {X_train.shape[0]} samples\")\n",
    "    print(f\"Testing set size: {X_test.shape[0]} samples\")\n",
    "    return X_train, X_test, Y_train, Y_test"
   ]
  },
  {
   "cell_type": "code",
   "execution_count": 11,
   "id": "68470671",
   "metadata": {},
   "outputs": [
    {
     "name": "stdout",
     "output_type": "stream",
     "text": [
      "Features (X) shape: (768, 8)\n",
      "Targets (Y) shape: (768, 6)\n"
     ]
    }
   ],
   "source": [
    "# 2. Prepare Data\n",
    "X, Y = prepare_data(dataframe)"
   ]
  },
  {
   "cell_type": "code",
   "execution_count": 12,
   "id": "3f9a03e6",
   "metadata": {},
   "outputs": [],
   "source": [
    "def scale_features(X_train, X_test):\n",
    "    \"\"\"Scales input features using StandardScaler.\"\"\"\n",
    "    scaler = StandardScaler()\n",
    "    # Fit scaler ONLY on training data\n",
    "    X_train_scaled = scaler.fit_transform(X_train)\n",
    "    # Transform both train and test data\n",
    "    X_test_scaled = scaler.transform(X_test)\n",
    "    print(\"Features scaled.\")\n",
    "    return X_train_scaled, X_test_scaled, scaler # Return scaler to save it"
   ]
  },
  {
   "cell_type": "code",
   "execution_count": 13,
   "id": "1706aec4",
   "metadata": {},
   "outputs": [
    {
     "name": "stdout",
     "output_type": "stream",
     "text": [
      "Training set size: 614 samples\n",
      "Testing set size: 154 samples\n",
      "Features scaled.\n"
     ]
    }
   ],
   "source": [
    "# 3. Split Data\n",
    "X_train, X_test, Y_train, Y_test = split_data(X, Y)\n",
    "\n",
    "# 4. Scale Features (Important!)\n",
    "X_train_scaled, X_test_scaled, scaler = scale_features(X_train, X_test)"
   ]
  },
  {
   "cell_type": "markdown",
   "id": "945c1183",
   "metadata": {},
   "source": [
    "## Train model"
   ]
  },
  {
   "cell_type": "code",
   "execution_count": 14,
   "id": "13676ac7",
   "metadata": {},
   "outputs": [],
   "source": [
    "def train_model(X_train, Y_train):\n",
    "    \"\"\"Trains a regression model.\"\"\"\n",
    "    print(\"Training RandomForestRegressor model...\")\n",
    "    # Example using RandomForestRegressor\n",
    "    # n_estimators: number of trees; random_state: reproducibility; n_jobs=-1: use all cores\n",
    "    model = RandomForestRegressor(n_estimators=100, random_state=42, n_jobs=-1, oob_score=True)\n",
    "\n",
    "    # Example using MLPRegressor (Neural Network)\n",
    "    # hidden_layer_sizes: tuple defining network structure (e.g., 2 hidden layers)\n",
    "    # max_iter: maximum number of training iterations\n",
    "    # alpha: L2 regularization term\n",
    "    # learning_rate_init: initial learning rate\n",
    "    # early_stopping: stop training if validation score doesn't improve\n",
    "    # verbose: print progress\n",
    "    # model = MLPRegressor(hidden_layer_sizes=(64, 32), activation='relu', solver='adam',\n",
    "    #                      max_iter=500, random_state=42, early_stopping=True,\n",
    "    #                      learning_rate_init=0.001, verbose=True)\n",
    "\n",
    "    model.fit(X_train, Y_train)\n",
    "    print(\"Model training complete.\")\n",
    "    # For RandomForest, you can check the Out-of-Bag score as a quick estimate of performance\n",
    "    if isinstance(model, RandomForestRegressor) and model.oob_score_:\n",
    "         print(f\"Model OOB score: {model.oob_score_:.4f}\")\n",
    "    return model"
   ]
  },
  {
   "cell_type": "code",
   "execution_count": 15,
   "id": "d016f0a3",
   "metadata": {},
   "outputs": [
    {
     "name": "stdout",
     "output_type": "stream",
     "text": [
      "Training RandomForestRegressor model...\n",
      "Model training complete.\n",
      "Model OOB score: 0.9579\n"
     ]
    }
   ],
   "source": [
    "# 5. Train Model (using scaled data)\n",
    "world_model = train_model(X_train_scaled, Y_train)"
   ]
  },
  {
   "cell_type": "code",
   "execution_count": 16,
   "id": "d0031860",
   "metadata": {},
   "outputs": [],
   "source": [
    "def evaluate_model(model, X_test, Y_test):\n",
    "    \"\"\"Evaluates the model using MAE and MSE.\"\"\"\n",
    "    Y_pred = model.predict(X_test)\n",
    "\n",
    "    mae = mean_absolute_error(Y_test, Y_pred)\n",
    "    mse = mean_squared_error(Y_test, Y_pred)\n",
    "    rmse = np.sqrt(mse) # Root Mean Squared Error\n",
    "\n",
    "    print(\"\\n--- Model Evaluation ---\")\n",
    "    print(f\"Mean Absolute Error (MAE): {mae:.4f}\")\n",
    "    print(f\"Mean Squared Error (MSE):  {mse:.4f}\")\n",
    "    print(f\"Root Mean Squared Error (RMSE): {rmse:.4f}\")\n",
    "\n",
    "    # Optional: Print metrics per output feature\n",
    "    print(\"\\nMAE per output feature:\")\n",
    "    output_features = [\n",
    "        'dist_red_final', 'angle_red_final', 'dist_green_final',\n",
    "        'angle_green_final', 'dist_blue_final', 'angle_blue_final'\n",
    "    ]\n",
    "    for i, name in enumerate(output_features):\n",
    "         mae_feature = mean_absolute_error(Y_test[:, i], Y_pred[:, i])\n",
    "         print(f\"  {name}: {mae_feature:.4f}\")\n",
    "\n",
    "    return mae, mse"
   ]
  },
  {
   "cell_type": "markdown",
   "id": "f63a4975",
   "metadata": {},
   "source": [
    "## Evaluate"
   ]
  },
  {
   "cell_type": "code",
   "execution_count": 17,
   "id": "cfc71db4",
   "metadata": {},
   "outputs": [
    {
     "name": "stdout",
     "output_type": "stream",
     "text": [
      "\n",
      "--- Model Evaluation ---\n",
      "Mean Absolute Error (MAE): 22.3253\n",
      "Mean Squared Error (MSE):  1497.2351\n",
      "Root Mean Squared Error (RMSE): 38.6941\n",
      "\n",
      "MAE per output feature:\n",
      "  dist_red_final: 39.9570\n",
      "  angle_red_final: 3.9896\n",
      "  dist_green_final: 38.2818\n",
      "  angle_green_final: 7.6712\n",
      "  dist_blue_final: 40.9996\n",
      "  angle_blue_final: 3.0525\n"
     ]
    },
    {
     "data": {
      "text/plain": [
       "(22.325294401606275, 1497.2351473844744)"
      ]
     },
     "execution_count": 17,
     "metadata": {},
     "output_type": "execute_result"
    }
   ],
   "source": [
    "# 6. Evaluate Model (using scaled test data)\n",
    "evaluate_model(world_model, X_test_scaled, Y_test)"
   ]
  },
  {
   "cell_type": "markdown",
   "id": "73961514",
   "metadata": {},
   "source": [
    "## Save model"
   ]
  },
  {
   "cell_type": "code",
   "execution_count": 22,
   "id": "f657491e",
   "metadata": {},
   "outputs": [],
   "source": [
    "def save_model_and_scaler(model, scaler, model_filename=\"world_model.joblib\", scaler_filename=\"scaler.joblib\"):\n",
    "    \"\"\"Saves the trained model and scaler to disk.\"\"\"\n",
    "    try:\n",
    "        # Ensure the directory exists\n",
    "        model_dir = \"../src/models\"\n",
    "        os.makedirs(model_dir, exist_ok=True)\n",
    "\n",
    "        model_path = os.path.join(model_dir, model_filename)\n",
    "        scaler_path = os.path.join(model_dir, scaler_filename)\n",
    "\n",
    "        joblib.dump(model, model_path)\n",
    "        joblib.dump(scaler, scaler_path)\n",
    "        print(f\"Model saved to {model_path}\")\n",
    "        print(f\"Scaler saved to {scaler_path}\")\n",
    "    except Exception as e:\n",
    "        print(f\"Error saving model/scaler: {e}\")"
   ]
  },
  {
   "cell_type": "code",
   "execution_count": 23,
   "id": "0fa7e6e5",
   "metadata": {},
   "outputs": [
    {
     "name": "stdout",
     "output_type": "stream",
     "text": [
      "Model saved to ../src/models/world_model.joblib\n",
      "Scaler saved to ../src/models/scaler.joblib\n"
     ]
    }
   ],
   "source": [
    "# 7. Save Model and Scaler\n",
    "save_model_and_scaler(world_model, scaler)"
   ]
  },
  {
   "cell_type": "code",
   "execution_count": 24,
   "id": "c11596e8",
   "metadata": {},
   "outputs": [
    {
     "name": "stdout",
     "output_type": "stream",
     "text": [
      "\n",
      "--- Example Prediction ---\n",
      "Input State + Action: [ 215.59621861 -116.56767775 1378.20905064 -172.5025863  1075.89103207\n",
      "   72.16203157   30.            2.        ]\n",
      "Actual Final State:   [ 156.33665338  -97.02055051 1296.9236501  -173.7067791  1137.12597569\n",
      "   69.03333994]\n",
      "Predicted Final State:[ 227.18284769  -88.00610187 1266.99770549 -161.55511559 1065.22886657\n",
      "   69.61030654]\n"
     ]
    }
   ],
   "source": [
    "# Example prediction (how you'd use it later)\n",
    "print(\"\\n--- Example Prediction ---\")\n",
    "# Take the first sample from the original test set\n",
    "sample_X = X_test[0].reshape(1, -1)\n",
    "sample_Y_actual = Y_test[0]\n",
    "# Scale the sample using the *saved* scaler\n",
    "sample_X_scaled = scaler.transform(sample_X)\n",
    "# Predict using the trained model\n",
    "sample_Y_pred = world_model.predict(sample_X_scaled)\n",
    "\n",
    "print(f\"Input State + Action: {sample_X[0]}\")\n",
    "print(f\"Actual Final State:   {sample_Y_actual}\")\n",
    "print(f\"Predicted Final State:{sample_Y_pred[0]}\")"
   ]
  }
 ],
 "metadata": {
  "kernelspec": {
   "display_name": "IR2",
   "language": "python",
   "name": "python3"
  },
  "language_info": {
   "codemirror_mode": {
    "name": "ipython",
    "version": 3
   },
   "file_extension": ".py",
   "mimetype": "text/x-python",
   "name": "python",
   "nbconvert_exporter": "python",
   "pygments_lexer": "ipython3",
   "version": "3.10.16"
  }
 },
 "nbformat": 4,
 "nbformat_minor": 5
}
