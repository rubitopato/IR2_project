{
 "cells": [
  {
   "cell_type": "markdown",
   "id": "899cc50c",
   "metadata": {},
   "source": [
    "# World Model"
   ]
  },
  {
   "cell_type": "markdown",
   "id": "2bc9fd66",
   "metadata": {},
   "source": [
    "## Imports\n"
   ]
  },
  {
   "cell_type": "code",
   "execution_count": 100,
   "id": "44247cdb",
   "metadata": {},
   "outputs": [],
   "source": [
    "import pandas as pd\n",
    "import numpy as np\n",
    "from sklearn.model_selection import train_test_split\n",
    "from sklearn.ensemble import RandomForestRegressor\n",
    "from sklearn.neural_network import MLPRegressor\n",
    "from sklearn.metrics import mean_absolute_error, mean_squared_error\n",
    "from sklearn.preprocessing import StandardScaler\n",
    "import joblib\n",
    "import os"
   ]
  },
  {
   "cell_type": "markdown",
   "id": "d95e82f4",
   "metadata": {},
   "source": [
    "## Load Dataset"
   ]
  },
  {
   "cell_type": "code",
   "execution_count": 101,
   "id": "1c3c70e1",
   "metadata": {},
   "outputs": [],
   "source": [
    "def load_data(filepath=\"../dataset/dataset_limited_2.txt\"):\n",
    "    \"\"\"Loads the dataset using pandas.\"\"\"\n",
    "    try:\n",
    "        df = pd.read_csv(filepath)\n",
    "        print(f\"Dataset loaded successfully. Shape: {df.shape}\")\n",
    "        df = df.dropna()\n",
    "        print(f\"Shape after dropping NaNs: {df.shape}\")\n",
    "        return df\n",
    "    except FileNotFoundError:\n",
    "        print(f\"Error: Dataset file not found at {filepath}\")\n",
    "        return None\n",
    "    except Exception as e:\n",
    "        print(f\"Error loading dataset: {e}\")\n",
    "        return None"
   ]
  },
  {
   "cell_type": "code",
   "execution_count": 102,
   "id": "99cb8f38",
   "metadata": {},
   "outputs": [
    {
     "name": "stdout",
     "output_type": "stream",
     "text": [
      "Dataset loaded successfully. Shape: (1818, 14)\n",
      "Shape after dropping NaNs: (1818, 14)\n"
     ]
    }
   ],
   "source": [
    "# 1. Load the dataset\n",
    "dataframe = load_data()"
   ]
  },
  {
   "cell_type": "code",
   "execution_count": 103,
   "id": "b3b82542",
   "metadata": {},
   "outputs": [
    {
     "name": "stdout",
     "output_type": "stream",
     "text": [
      "<class 'pandas.core.frame.DataFrame'>\n",
      "RangeIndex: 1818 entries, 0 to 1817\n",
      "Data columns (total 14 columns):\n",
      " #   Column                Non-Null Count  Dtype  \n",
      "---  ------                --------------  -----  \n",
      " 0   distance_red_init     1818 non-null   float64\n",
      " 1   angle_red_init        1818 non-null   float64\n",
      " 2   distance_green_init   1818 non-null   float64\n",
      " 3   angle_green_init      1818 non-null   float64\n",
      " 4   distance_blue_init    1818 non-null   float64\n",
      " 5   angle_blue_init       1818 non-null   float64\n",
      " 6   rSpeed                1818 non-null   int64  \n",
      " 7   lSpeed                1818 non-null   int64  \n",
      " 8   distance_red_final    1818 non-null   float64\n",
      " 9   angle_red_final       1818 non-null   float64\n",
      " 10  distance_green_final  1818 non-null   float64\n",
      " 11  angle_green_final     1818 non-null   float64\n",
      " 12  distance_blue_final   1818 non-null   float64\n",
      " 13  angle_blue_final      1818 non-null   float64\n",
      "dtypes: float64(12), int64(2)\n",
      "memory usage: 199.0 KB\n"
     ]
    }
   ],
   "source": [
    "dataframe.info()"
   ]
  },
  {
   "cell_type": "markdown",
   "id": "b6e96bd5",
   "metadata": {},
   "source": [
    "## Preprocess Dataset"
   ]
  },
  {
   "cell_type": "code",
   "execution_count": 104,
   "id": "dc842ecb",
   "metadata": {},
   "outputs": [],
   "source": [
    "def prepare_data(df):\n",
    "    \"\"\"Separates features (X) and target variables (Y).\"\"\"\n",
    "    # Input Features: initial state (6) + action (2) = 8 features\n",
    "    X = df.iloc[:, :8].values\n",
    "    # Target Variables: final state (6) = 6 features\n",
    "    Y = df.iloc[:, 8:].values\n",
    "    print(f\"Features (X) shape: {X.shape}\")\n",
    "    print(f\"Targets (Y) shape: {Y.shape}\")\n",
    "    return X, Y"
   ]
  },
  {
   "cell_type": "code",
   "execution_count": 105,
   "id": "ec74f86c",
   "metadata": {},
   "outputs": [],
   "source": [
    "def split_data(X, Y, test_size=0.2, random_state=42):\n",
    "    \"\"\"Splits data into training and testing sets.\"\"\"\n",
    "    X_train, X_test, Y_train, Y_test = train_test_split(\n",
    "        X, Y, test_size=test_size, random_state=random_state\n",
    "    )\n",
    "    print(f\"Training set size: {X_train.shape[0]} samples\")\n",
    "    print(f\"Testing set size: {X_test.shape[0]} samples\")\n",
    "    return X_train, X_test, Y_train, Y_test"
   ]
  },
  {
   "cell_type": "code",
   "execution_count": 106,
   "id": "68470671",
   "metadata": {},
   "outputs": [
    {
     "name": "stdout",
     "output_type": "stream",
     "text": [
      "Features (X) shape: (1818, 8)\n",
      "Targets (Y) shape: (1818, 6)\n"
     ]
    }
   ],
   "source": [
    "# 2. Prepare Data\n",
    "X, Y = prepare_data(dataframe)"
   ]
  },
  {
   "cell_type": "code",
   "execution_count": 107,
   "id": "3f9a03e6",
   "metadata": {},
   "outputs": [],
   "source": [
    "def scale_features(X_train, X_test):\n",
    "    \"\"\"Scales input features using StandardScaler.\"\"\"\n",
    "    \n",
    "    scaler = StandardScaler()\n",
    "    \n",
    "    # Fit scaler ONLY on training data\n",
    "    X_train_scaled = scaler.fit_transform(X_train)\n",
    "    \n",
    "    # Transform both train and test data\n",
    "    X_test_scaled = scaler.transform(X_test)\n",
    "    \n",
    "    print(\"Features scaled.\")\n",
    "    \n",
    "    return X_train_scaled, X_test_scaled, scaler # Return scaler to save it"
   ]
  },
  {
   "cell_type": "code",
   "execution_count": 108,
   "id": "1706aec4",
   "metadata": {},
   "outputs": [
    {
     "name": "stdout",
     "output_type": "stream",
     "text": [
      "Training set size: 1454 samples\n",
      "Testing set size: 364 samples\n",
      "Features scaled.\n"
     ]
    }
   ],
   "source": [
    "# 3. Split Data\n",
    "X_train, X_test, Y_train, Y_test = split_data(X, Y)\n",
    "\n",
    "# 4. Scale Features (Important!)\n",
    "X_train_scaled, X_test_scaled, scaler = scale_features(X_train, X_test)"
   ]
  },
  {
   "cell_type": "markdown",
   "id": "945c1183",
   "metadata": {},
   "source": [
    "## Train model"
   ]
  },
  {
   "cell_type": "code",
   "execution_count": 109,
   "id": "9e9cf54a",
   "metadata": {},
   "outputs": [],
   "source": [
    "# from sklearn.model_selection import GridSearchCV\n",
    "\n",
    "# # Hyperparameter Tuning with GridSearchCV\n",
    "# param_grid = {\n",
    "#     'hidden_layer_sizes': [(64,), (32, 16), (64, 32), (100,)], # Try different depths/widths\n",
    "#     'activation': ['relu', 'tanh'], # Common activation functions\n",
    "#     'alpha': [0.0001, 0.001, 0.01], # Regularization strength\n",
    "#     'learning_rate_init': [0.001, 0.0005, 0.005] # Initial learning rate\n",
    "# }\n",
    "\n",
    "# # Create the base MLP Regressor model instance for the grid search\n",
    "# # Use slightly lower max_iter here to speed up the search process for each fold\n",
    "# # Early stopping is still useful within each fold's training\n",
    "# mlp_base = MLPRegressor(\n",
    "#     solver='adam',\n",
    "#     batch_size='auto',\n",
    "#     learning_rate='constant',\n",
    "#     max_iter=1500,\n",
    "#     shuffle=True,\n",
    "#     random_state=42,\n",
    "#     tol=0.0001,\n",
    "#     verbose=False,\n",
    "#     warm_start=False,\n",
    "#     early_stopping=True,\n",
    "#     validation_fraction=0.1,\n",
    "#     n_iter_no_change=15\n",
    "# )\n",
    "\n",
    "# # Set up GridSearchCV\n",
    "# # cv=3 means 3-fold cross-validation\n",
    "# # scoring='neg_mean_squared_error' - lower MSE is better, so we maximize the negative MSE.\n",
    "# # n_jobs=-1 uses all available CPU cores for parallel processing.\n",
    "# # verbose=2 shows more detailed progress.\n",
    "# print(\"Starting GridSearchCV...\")\n",
    "# grid_search = GridSearchCV(\n",
    "#     estimator=mlp_base,\n",
    "#     param_grid=param_grid,\n",
    "#     cv=5,\n",
    "#     scoring='neg_root_mean_squared_error', # Optimize for lower RMSE (using negative)\n",
    "#     n_jobs=-1,\n",
    "#     verbose=1,\n",
    "#     return_train_score=True # Optional: to see training scores as well\n",
    "# )\n",
    "\n",
    "# # Fit GridSearchCV on the SCALED training data\n",
    "# # This will take some time!\n",
    "# grid_search.fit(X_train_scaled, Y_train)\n",
    "\n",
    "# # Print the best parameters and the corresponding score\n",
    "# print(\"\\nGridSearchCV Complete.\")\n",
    "# print(f\"Best parameters found: {grid_search.best_params_}\")\n",
    "# # The score is negative RMSE, so closer to 0 is better. Convert back for interpretation.\n",
    "# print(f\"Best cross-validation score (RMSE): {-grid_search.best_score_:.4f}\")\n",
    "\n",
    "# # Get the best estimator found by the grid search\n",
    "# best_mlp_model = grid_search.best_estimator_\n",
    "\n",
    "# # print(\"\\n--- Grid Search Results Summary ---\")\n",
    "# # You can optionally examine cv_results_ for more details\n",
    "# pd.DataFrame(grid_search.cv_results_).sort_values(by='rank_test_score').head(10) # Show top 10 results"
   ]
  },
  {
   "cell_type": "code",
   "execution_count": 110,
   "id": "13676ac7",
   "metadata": {},
   "outputs": [],
   "source": [
    "# from tqdm import tqdm\n",
    "\n",
    "def train_model(X_train, Y_train):\n",
    "    \"\"\"Trains a regression model.\"\"\"\n",
    "    print(\"Training RandomForestRegressor model...\")\n",
    "    # Example using RandomForestRegressor\n",
    "    # n_estimators: number of trees; random_state: reproducibility; n_jobs=-1: use all cores\n",
    "    model = RandomForestRegressor(n_estimators=100, random_state=42, n_jobs=-1, oob_score=True)\n",
    "\n",
    "    model.fit(X_train, Y_train)\n",
    "    print(\"Model training complete.\")\n",
    "    # For RandomForest, you can check the Out-of-Bag score as a quick estimate of performance\n",
    "    if isinstance(model, RandomForestRegressor) and model.oob_score_:\n",
    "         print(f\"Model OOB score: {model.oob_score_:.4f}\")\n",
    "    return model\n",
    "\n",
    "# import matplotlib.pyplot as plt\n",
    "\n",
    "# def train_model(X_train, Y_train):\n",
    "#     \"\"\"Trains a regression model (now using MLPRegressor) with a progress bar and plots loss.\"\"\"\n",
    "#     print(\"Training MLPRegressor model...\")\n",
    "#     model = MLPRegressor(\n",
    "#         hidden_layer_sizes=(64, 32),\n",
    "#         activation='relu',\n",
    "#         solver='adam',\n",
    "#         alpha=0.0001,\n",
    "#         batch_size='auto',\n",
    "#         learning_rate='constant',\n",
    "#         learning_rate_init=0.001,\n",
    "#         max_iter=1000,\n",
    "#         shuffle=True,\n",
    "#         random_state=42,\n",
    "#         tol=0.0001,\n",
    "#         verbose=False,  # Disable built-in verbose to use custom progress bar\n",
    "#         warm_start=False,\n",
    "#         early_stopping=True,\n",
    "#         validation_fraction=0.1,\n",
    "#         n_iter_no_change=10\n",
    "#     )\n",
    "\n",
    "#     losses = []\n",
    "\n",
    "#     # Custom training loop with tqdm progress bar\n",
    "#     for i in tqdm(range(model.max_iter), desc=\"Training Progress\"):\n",
    "#         model.partial_fit(X_train, Y_train)\n",
    "#         if hasattr(model, 'loss_'):\n",
    "#             losses.append(model.loss_)\n",
    "#         if len(losses) > 1 and abs(losses[-1] - losses[-2]) < model.tol:\n",
    "#             print(f\"Convergence reached at iteration {i + 1}\")\n",
    "#             break\n",
    "\n",
    "#     print(\"Model training complete.\")\n",
    "\n",
    "#     # Plot the loss curve\n",
    "#     plt.figure(figsize=(10, 6))\n",
    "#     plt.plot(losses, label='Training Loss')\n",
    "#     plt.xlabel('Iteration')\n",
    "#     plt.ylabel('Loss')\n",
    "#     plt.title('Training Loss Curve')\n",
    "#     plt.legend()\n",
    "#     plt.grid()\n",
    "#     plt.show()\n",
    "\n",
    "#     return model"
   ]
  },
  {
   "cell_type": "code",
   "execution_count": null,
   "id": "fdceacd9",
   "metadata": {},
   "outputs": [],
   "source": [
    "# # Replace your custom train_model function with this one\n",
    "# import matplotlib.pyplot as plt\n",
    "# from sklearn.neural_network import MLPRegressor  # Ensure this is imported\n",
    "\n",
    "# def train_model(X_train, Y_train):\n",
    "#     \"\"\"Trains MLPRegressor using standard .fit() and plots training and validation loss.\"\"\"\n",
    "#     print(\"Training MLPRegressor model...\")\n",
    "#     model = MLPRegressor(\n",
    "#         hidden_layer_sizes=(128, 64),  # Example architecture\n",
    "#         activation='relu',\n",
    "#         solver='adam',\n",
    "#         alpha=0.0001,\n",
    "#         batch_size='auto',\n",
    "#         learning_rate='constant',\n",
    "#         learning_rate_init=0.001,\n",
    "#         max_iter=2000,  # Allow more iterations\n",
    "#         shuffle=True,\n",
    "#         random_state=42,\n",
    "#         tol=0.0001,\n",
    "#         verbose=False,\n",
    "#         warm_start=False,\n",
    "#         early_stopping=True,\n",
    "#         validation_fraction=0.1,\n",
    "#         n_iter_no_change=20\n",
    "#     )\n",
    "\n",
    "#     # Train the model\n",
    "#     model.fit(X_train, Y_train)\n",
    "\n",
    "#     # Plot the loss curves\n",
    "#     if hasattr(model, 'loss_curve_') and hasattr(model, 'validation_scores_'):\n",
    "#         fig, axes = plt.subplots(1, 2, figsize=(14, 6))\n",
    "\n",
    "#         # Training loss subplot\n",
    "#         axes[0].plot(model.loss_curve_, label='Training Loss', color='blue')\n",
    "#         axes[0].set_xlabel('Iteration')\n",
    "#         axes[0].set_ylabel('Loss')\n",
    "#         axes[0].set_title('Training Loss Curve')\n",
    "#         axes[0].legend()\n",
    "#         axes[0].grid(True)\n",
    "\n",
    "#         # Validation loss subplot\n",
    "#         axes[1].plot(\n",
    "#             range(len(model.validation_scores_)),\n",
    "#             [-score for score in model.validation_scores_],\n",
    "#             label='Validation Loss',\n",
    "#             color='orange'\n",
    "#         )\n",
    "#         axes[1].set_xlabel('Iteration')\n",
    "#         axes[1].set_ylabel('Loss')\n",
    "#         axes[1].set_title('Validation Loss Curve')\n",
    "#         axes[1].legend()\n",
    "#         axes[1].grid(True)\n",
    "\n",
    "#         plt.tight_layout()\n",
    "#         plt.show()\n",
    "#     else:\n",
    "#         print(\"Could not plot loss curves (attributes not found).\")\n",
    "\n",
    "#     # Print additional information\n",
    "#     if hasattr(model, 'n_iter_'):\n",
    "#         print(f\"Number of iterations run: {model.n_iter_}\")\n",
    "#     if hasattr(model, 'best_validation_score_'):\n",
    "#         print(f\"Best validation score achieved: {model.best_validation_score_:.4f}\")\n",
    "\n",
    "#     return model"
   ]
  },
  {
   "cell_type": "code",
   "execution_count": 111,
   "id": "d016f0a3",
   "metadata": {},
   "outputs": [
    {
     "name": "stdout",
     "output_type": "stream",
     "text": [
      "Training RandomForestRegressor model...\n",
      "Model training complete.\n",
      "Model OOB score: 0.9394\n",
      "Model training complete.\n",
      "Model OOB score: 0.9394\n"
     ]
    }
   ],
   "source": [
    "# # 5. Train Model (using scaled data)\n",
    "world_model = train_model(X_train_scaled, Y_train)"
   ]
  },
  {
   "cell_type": "markdown",
   "id": "f63a4975",
   "metadata": {},
   "source": [
    "## Evaluate"
   ]
  },
  {
   "cell_type": "code",
   "execution_count": 112,
   "id": "d0031860",
   "metadata": {},
   "outputs": [],
   "source": [
    "def evaluate_model(model, X_test, Y_test):\n",
    "    \"\"\"Evaluates the model using MAE and MSE.\"\"\"\n",
    "    Y_pred = model.predict(X_test)\n",
    "\n",
    "    mae = mean_absolute_error(Y_test, Y_pred)\n",
    "    mse = mean_squared_error(Y_test, Y_pred)\n",
    "    rmse = np.sqrt(mse) # Root Mean Squared Error\n",
    "\n",
    "    print(\"\\n--- Model Evaluation ---\")\n",
    "    print(f\"Mean Absolute Error (MAE): {mae:.4f}\")\n",
    "    print(f\"Mean Squared Error (MSE):  {mse:.4f}\")\n",
    "    print(f\"Root Mean Squared Error (RMSE): {rmse:.4f}\")\n",
    "\n",
    "    # Optional: Print metrics per output feature\n",
    "    print(\"\\nMAE per output feature:\")\n",
    "    output_features = [\n",
    "        'dist_red_final', 'angle_red_final', 'dist_green_final',\n",
    "        'angle_green_final', 'dist_blue_final', 'angle_blue_final'\n",
    "    ]\n",
    "    for i, name in enumerate(output_features):\n",
    "         mae_feature = mean_absolute_error(Y_test[:, i], Y_pred[:, i])\n",
    "         print(f\"  {name}: {mae_feature:.4f}\")\n",
    "\n",
    "    return mae, mse"
   ]
  },
  {
   "cell_type": "code",
   "execution_count": 113,
   "id": "3e248f16",
   "metadata": {},
   "outputs": [],
   "source": [
    "# # Cell [77] - Modify this cell\n",
    "\n",
    "# # The grid search already trained the best model on the full training set\n",
    "# # So, assign the best estimator directly to world_model\n",
    "# print(\"Assigning best estimator from GridSearchCV to world_model...\")\n",
    "# world_model = best_mlp_model\n",
    "\n",
    "# # Now, evaluate this best model on the held-out TEST set\n",
    "# print(\"\\nEvaluating the best model found by GridSearchCV on the TEST set:\")\n",
    "# # Assuming evaluate_model function is defined in cell [39]\n",
    "# evaluate_model(world_model, X_test_scaled, Y_test)\n",
    "\n",
    "# # Print the parameters of the best model found\n",
    "# print(\"\\nParameters of the best model:\")\n",
    "# print(world_model.get_params())\n",
    "\n",
    "# # You can now proceed to save this 'world_model' (which is the best estimator)\n",
    "# # using the save_model_and_scaler function in cell [23]"
   ]
  },
  {
   "cell_type": "code",
   "execution_count": 114,
   "id": "4365b747",
   "metadata": {},
   "outputs": [
    {
     "name": "stdout",
     "output_type": "stream",
     "text": [
      "\n",
      "--- Model Evaluation ---\n",
      "Mean Absolute Error (MAE): 25.4712\n",
      "Mean Squared Error (MSE):  1989.6590\n",
      "Root Mean Squared Error (RMSE): 44.6056\n",
      "\n",
      "MAE per output feature:\n",
      "  dist_red_final: 41.5873\n",
      "  angle_red_final: 10.6783\n",
      "  dist_green_final: 37.0963\n",
      "  angle_green_final: 18.5310\n",
      "  dist_blue_final: 40.3401\n",
      "  angle_blue_final: 4.5943\n"
     ]
    },
    {
     "data": {
      "text/plain": [
       "(25.471232276411712, 1989.6590256537377)"
      ]
     },
     "execution_count": 114,
     "metadata": {},
     "output_type": "execute_result"
    }
   ],
   "source": [
    "# 6. Evaluate Model (using scaled test data) New Data Random Forest\n",
    "evaluate_model(world_model, X_test_scaled, Y_test)"
   ]
  },
  {
   "cell_type": "code",
   "execution_count": null,
   "id": "cfc71db4",
   "metadata": {},
   "outputs": [
    {
     "name": "stdout",
     "output_type": "stream",
     "text": [
      "\n",
      "--- Model Evaluation ---\n",
      "Mean Absolute Error (MAE): 22.3253\n",
      "Mean Squared Error (MSE):  1497.2351\n",
      "Root Mean Squared Error (RMSE): 38.6941\n",
      "\n",
      "MAE per output feature:\n",
      "  dist_red_final: 39.9570\n",
      "  angle_red_final: 3.9896\n",
      "  dist_green_final: 38.2818\n",
      "  angle_green_final: 7.6712\n",
      "  dist_blue_final: 40.9996\n",
      "  angle_blue_final: 3.0525\n"
     ]
    },
    {
     "data": {
      "text/plain": [
       "(22.325294401606275, 1497.2351473844744)"
      ]
     },
     "execution_count": 17,
     "metadata": {},
     "output_type": "execute_result"
    }
   ],
   "source": [
    "# 6. Evaluate Model (using scaled test data) random forest\n",
    "evaluate_model(world_model, X_test_scaled, Y_test)"
   ]
  },
  {
   "cell_type": "code",
   "execution_count": null,
   "id": "33c52e66",
   "metadata": {},
   "outputs": [
    {
     "name": "stdout",
     "output_type": "stream",
     "text": [
      "\n",
      "--- Model Evaluation ---\n",
      "Mean Absolute Error (MAE): 26.0102\n",
      "Mean Squared Error (MSE):  1764.5742\n",
      "Root Mean Squared Error (RMSE): 42.0068\n",
      "\n",
      "MAE per output feature:\n",
      "  dist_red_final: 40.2118\n",
      "  angle_red_final: 7.6596\n",
      "  dist_green_final: 42.1884\n",
      "  angle_green_final: 14.1142\n",
      "  dist_blue_final: 45.2772\n",
      "  angle_blue_final: 6.6099\n"
     ]
    },
    {
     "data": {
      "text/plain": [
       "(26.01019102596153, 1764.5742434315123)"
      ]
     },
     "execution_count": 78,
     "metadata": {},
     "output_type": "execute_result"
    }
   ],
   "source": [
    "# 6. Evaluate Model (using scaled test data) ANN\n",
    "evaluate_model(world_model, X_test_scaled, Y_test)"
   ]
  },
  {
   "cell_type": "markdown",
   "id": "73961514",
   "metadata": {},
   "source": [
    "## Save model"
   ]
  },
  {
   "cell_type": "code",
   "execution_count": 116,
   "id": "f657491e",
   "metadata": {},
   "outputs": [],
   "source": [
    "def save_model_and_scaler(model, scaler, model_filename=\"world_model.joblib\", scaler_filename=\"scaler.joblib\"):\n",
    "    \"\"\"Saves the trained model and scaler to disk.\"\"\"\n",
    "    try:\n",
    "        # Ensure the directory exists\n",
    "        model_dir = \"../src/models\"\n",
    "        os.makedirs(model_dir, exist_ok=True)\n",
    "\n",
    "        model_path = os.path.join(model_dir, model_filename)\n",
    "        scaler_path = os.path.join(model_dir, scaler_filename)\n",
    "\n",
    "        joblib.dump(model, model_path)\n",
    "        joblib.dump(scaler, scaler_path)\n",
    "        print(f\"Model saved to {model_path}\")\n",
    "        print(f\"Scaler saved to {scaler_path}\")\n",
    "    except Exception as e:\n",
    "        print(f\"Error saving model/scaler: {e}\")"
   ]
  },
  {
   "cell_type": "code",
   "execution_count": 117,
   "id": "0fa7e6e5",
   "metadata": {},
   "outputs": [
    {
     "name": "stdout",
     "output_type": "stream",
     "text": [
      "Model saved to ../src/models/world_model.joblib\n",
      "Scaler saved to ../src/models/scaler.joblib\n"
     ]
    }
   ],
   "source": [
    "# 7. Save Model and Scaler\n",
    "save_model_and_scaler(world_model, scaler)"
   ]
  },
  {
   "cell_type": "code",
   "execution_count": 115,
   "id": "c11596e8",
   "metadata": {},
   "outputs": [
    {
     "name": "stdout",
     "output_type": "stream",
     "text": [
      "\n",
      "--- Example Prediction ---\n",
      "Input State + Action: [ 4.10674455e+02  1.22678632e+02  1.39104272e+03 -1.74541181e+02\n",
      "  8.04670468e+02  5.43256407e+01  1.00000000e+00 -6.00000000e+00]\n",
      "Actual Final State:   [ 419.68603568  120.04972943 1377.94257775 -175.22419136  825.72434115\n",
      "   54.38562828]\n",
      "Predicted Final State:[ 416.43578102  126.10140724 1383.72109556 -173.69369458  807.56981469\n",
      "   55.83563045]\n"
     ]
    }
   ],
   "source": [
    "# Example prediction (how you'd use it later)\n",
    "print(\"\\n--- Example Prediction ---\")\n",
    "# Take the first sample from the original test set\n",
    "sample_X = X_test[0].reshape(1, -1)\n",
    "sample_Y_actual = Y_test[0]\n",
    "# Scale the sample using the *saved* scaler\n",
    "sample_X_scaled = scaler.transform(sample_X)\n",
    "# Predict using the trained model\n",
    "sample_Y_pred = world_model.predict(sample_X_scaled)\n",
    "\n",
    "print(f\"Input State + Action: {sample_X[0]}\")\n",
    "print(f\"Actual Final State:   {sample_Y_actual}\")\n",
    "print(f\"Predicted Final State:{sample_Y_pred[0]}\")"
   ]
  }
 ],
 "metadata": {
  "kernelspec": {
   "display_name": "IR2",
   "language": "python",
   "name": "python3"
  },
  "language_info": {
   "codemirror_mode": {
    "name": "ipython",
    "version": 3
   },
   "file_extension": ".py",
   "mimetype": "text/x-python",
   "name": "python",
   "nbconvert_exporter": "python",
   "pygments_lexer": "ipython3",
   "version": "3.10.16"
  }
 },
 "nbformat": 4,
 "nbformat_minor": 5
}
